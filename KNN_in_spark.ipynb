{
 "cells": [
  {
   "cell_type": "code",
   "execution_count": 1,
   "metadata": {
    "colab": {
     "base_uri": "https://localhost:8080/"
    },
    "id": "TTpkr3wYg1pA",
    "outputId": "4d9b4859-59ed-4473-c8ce-91c8f4af08a3"
   },
   "outputs": [
    {
     "name": "stdout",
     "output_type": "stream",
     "text": [
      "Collecting pyspark\n",
      "  Downloading pyspark-3.2.1.tar.gz (281.4 MB)\n",
      "\u001b[K     |████████████████████████████████| 281.4 MB 34 kB/s \n",
      "\u001b[?25hCollecting py4j==0.10.9.3\n",
      "  Downloading py4j-0.10.9.3-py2.py3-none-any.whl (198 kB)\n",
      "\u001b[K     |████████████████████████████████| 198 kB 42.2 MB/s \n",
      "\u001b[?25hBuilding wheels for collected packages: pyspark\n",
      "  Building wheel for pyspark (setup.py) ... \u001b[?25l\u001b[?25hdone\n",
      "  Created wheel for pyspark: filename=pyspark-3.2.1-py2.py3-none-any.whl size=281853642 sha256=31f71f1ac283662b76b74e66be4cbbd4acd6049cb54bf9a0375a03e32cfcc5c1\n",
      "  Stored in directory: /root/.cache/pip/wheels/9f/f5/07/7cd8017084dce4e93e84e92efd1e1d5334db05f2e83bcef74f\n",
      "Successfully built pyspark\n",
      "Installing collected packages: py4j, pyspark\n",
      "Successfully installed py4j-0.10.9.3 pyspark-3.2.1\n"
     ]
    }
   ],
   "source": [
    "!pip install pyspark"
   ]
  },
  {
   "cell_type": "code",
   "execution_count": 2,
   "metadata": {
    "id": "wJ0ZE_Frhqet"
   },
   "outputs": [],
   "source": [
    "from pyspark import SparkContext\n",
    "from pyspark.sql import SparkSession\n",
    "from pyspark.sql.types import DoubleType, IntegerType, DateType,FloatType\n",
    "from pyspark.sql.functions import col, asc,desc,lit, sqrt,stddev, mean, udf\n",
    "from collections import Counter\n",
    "import json\n",
    "import csv\n",
    "from io import StringIO\n",
    "from pyspark.sql import HiveContext\n",
    "from sklearn import datasets \n",
    "import pandas as pd\n"
   ]
  },
  {
   "cell_type": "code",
   "execution_count": 3,
   "metadata": {
    "id": "ZQJ5ueuriUB8"
   },
   "outputs": [],
   "source": [
    "\n",
    "\n",
    "sc = SparkContext()\n",
    "spark = SparkSession(sc)\n"
   ]
  },
  {
   "cell_type": "code",
   "execution_count": 4,
   "metadata": {
    "colab": {
     "base_uri": "https://localhost:8080/"
    },
    "id": "s4ygcf00i7jG",
    "outputId": "0271fef3-5be0-42cb-abe0-100b15471625"
   },
   "outputs": [
    {
     "data": {
      "text/plain": [
       "{'DESCR': '.. _iris_dataset:\\n\\nIris plants dataset\\n--------------------\\n\\n**Data Set Characteristics:**\\n\\n    :Number of Instances: 150 (50 in each of three classes)\\n    :Number of Attributes: 4 numeric, predictive attributes and the class\\n    :Attribute Information:\\n        - sepal length in cm\\n        - sepal width in cm\\n        - petal length in cm\\n        - petal width in cm\\n        - class:\\n                - Iris-Setosa\\n                - Iris-Versicolour\\n                - Iris-Virginica\\n                \\n    :Summary Statistics:\\n\\n    ============== ==== ==== ======= ===== ====================\\n                    Min  Max   Mean    SD   Class Correlation\\n    ============== ==== ==== ======= ===== ====================\\n    sepal length:   4.3  7.9   5.84   0.83    0.7826\\n    sepal width:    2.0  4.4   3.05   0.43   -0.4194\\n    petal length:   1.0  6.9   3.76   1.76    0.9490  (high!)\\n    petal width:    0.1  2.5   1.20   0.76    0.9565  (high!)\\n    ============== ==== ==== ======= ===== ====================\\n\\n    :Missing Attribute Values: None\\n    :Class Distribution: 33.3% for each of 3 classes.\\n    :Creator: R.A. Fisher\\n    :Donor: Michael Marshall (MARSHALL%PLU@io.arc.nasa.gov)\\n    :Date: July, 1988\\n\\nThe famous Iris database, first used by Sir R.A. Fisher. The dataset is taken\\nfrom Fisher\\'s paper. Note that it\\'s the same as in R, but not as in the UCI\\nMachine Learning Repository, which has two wrong data points.\\n\\nThis is perhaps the best known database to be found in the\\npattern recognition literature.  Fisher\\'s paper is a classic in the field and\\nis referenced frequently to this day.  (See Duda & Hart, for example.)  The\\ndata set contains 3 classes of 50 instances each, where each class refers to a\\ntype of iris plant.  One class is linearly separable from the other 2; the\\nlatter are NOT linearly separable from each other.\\n\\n.. topic:: References\\n\\n   - Fisher, R.A. \"The use of multiple measurements in taxonomic problems\"\\n     Annual Eugenics, 7, Part II, 179-188 (1936); also in \"Contributions to\\n     Mathematical Statistics\" (John Wiley, NY, 1950).\\n   - Duda, R.O., & Hart, P.E. (1973) Pattern Classification and Scene Analysis.\\n     (Q327.D83) John Wiley & Sons.  ISBN 0-471-22361-1.  See page 218.\\n   - Dasarathy, B.V. (1980) \"Nosing Around the Neighborhood: A New System\\n     Structure and Classification Rule for Recognition in Partially Exposed\\n     Environments\".  IEEE Transactions on Pattern Analysis and Machine\\n     Intelligence, Vol. PAMI-2, No. 1, 67-71.\\n   - Gates, G.W. (1972) \"The Reduced Nearest Neighbor Rule\".  IEEE Transactions\\n     on Information Theory, May 1972, 431-433.\\n   - See also: 1988 MLC Proceedings, 54-64.  Cheeseman et al\"s AUTOCLASS II\\n     conceptual clustering system finds 3 classes in the data.\\n   - Many, many more ...',\n",
       " 'data': array([[5.1, 3.5, 1.4, 0.2],\n",
       "        [4.9, 3. , 1.4, 0.2],\n",
       "        [4.7, 3.2, 1.3, 0.2],\n",
       "        [4.6, 3.1, 1.5, 0.2],\n",
       "        [5. , 3.6, 1.4, 0.2],\n",
       "        [5.4, 3.9, 1.7, 0.4],\n",
       "        [4.6, 3.4, 1.4, 0.3],\n",
       "        [5. , 3.4, 1.5, 0.2],\n",
       "        [4.4, 2.9, 1.4, 0.2],\n",
       "        [4.9, 3.1, 1.5, 0.1],\n",
       "        [5.4, 3.7, 1.5, 0.2],\n",
       "        [4.8, 3.4, 1.6, 0.2],\n",
       "        [4.8, 3. , 1.4, 0.1],\n",
       "        [4.3, 3. , 1.1, 0.1],\n",
       "        [5.8, 4. , 1.2, 0.2],\n",
       "        [5.7, 4.4, 1.5, 0.4],\n",
       "        [5.4, 3.9, 1.3, 0.4],\n",
       "        [5.1, 3.5, 1.4, 0.3],\n",
       "        [5.7, 3.8, 1.7, 0.3],\n",
       "        [5.1, 3.8, 1.5, 0.3],\n",
       "        [5.4, 3.4, 1.7, 0.2],\n",
       "        [5.1, 3.7, 1.5, 0.4],\n",
       "        [4.6, 3.6, 1. , 0.2],\n",
       "        [5.1, 3.3, 1.7, 0.5],\n",
       "        [4.8, 3.4, 1.9, 0.2],\n",
       "        [5. , 3. , 1.6, 0.2],\n",
       "        [5. , 3.4, 1.6, 0.4],\n",
       "        [5.2, 3.5, 1.5, 0.2],\n",
       "        [5.2, 3.4, 1.4, 0.2],\n",
       "        [4.7, 3.2, 1.6, 0.2],\n",
       "        [4.8, 3.1, 1.6, 0.2],\n",
       "        [5.4, 3.4, 1.5, 0.4],\n",
       "        [5.2, 4.1, 1.5, 0.1],\n",
       "        [5.5, 4.2, 1.4, 0.2],\n",
       "        [4.9, 3.1, 1.5, 0.2],\n",
       "        [5. , 3.2, 1.2, 0.2],\n",
       "        [5.5, 3.5, 1.3, 0.2],\n",
       "        [4.9, 3.6, 1.4, 0.1],\n",
       "        [4.4, 3. , 1.3, 0.2],\n",
       "        [5.1, 3.4, 1.5, 0.2],\n",
       "        [5. , 3.5, 1.3, 0.3],\n",
       "        [4.5, 2.3, 1.3, 0.3],\n",
       "        [4.4, 3.2, 1.3, 0.2],\n",
       "        [5. , 3.5, 1.6, 0.6],\n",
       "        [5.1, 3.8, 1.9, 0.4],\n",
       "        [4.8, 3. , 1.4, 0.3],\n",
       "        [5.1, 3.8, 1.6, 0.2],\n",
       "        [4.6, 3.2, 1.4, 0.2],\n",
       "        [5.3, 3.7, 1.5, 0.2],\n",
       "        [5. , 3.3, 1.4, 0.2],\n",
       "        [7. , 3.2, 4.7, 1.4],\n",
       "        [6.4, 3.2, 4.5, 1.5],\n",
       "        [6.9, 3.1, 4.9, 1.5],\n",
       "        [5.5, 2.3, 4. , 1.3],\n",
       "        [6.5, 2.8, 4.6, 1.5],\n",
       "        [5.7, 2.8, 4.5, 1.3],\n",
       "        [6.3, 3.3, 4.7, 1.6],\n",
       "        [4.9, 2.4, 3.3, 1. ],\n",
       "        [6.6, 2.9, 4.6, 1.3],\n",
       "        [5.2, 2.7, 3.9, 1.4],\n",
       "        [5. , 2. , 3.5, 1. ],\n",
       "        [5.9, 3. , 4.2, 1.5],\n",
       "        [6. , 2.2, 4. , 1. ],\n",
       "        [6.1, 2.9, 4.7, 1.4],\n",
       "        [5.6, 2.9, 3.6, 1.3],\n",
       "        [6.7, 3.1, 4.4, 1.4],\n",
       "        [5.6, 3. , 4.5, 1.5],\n",
       "        [5.8, 2.7, 4.1, 1. ],\n",
       "        [6.2, 2.2, 4.5, 1.5],\n",
       "        [5.6, 2.5, 3.9, 1.1],\n",
       "        [5.9, 3.2, 4.8, 1.8],\n",
       "        [6.1, 2.8, 4. , 1.3],\n",
       "        [6.3, 2.5, 4.9, 1.5],\n",
       "        [6.1, 2.8, 4.7, 1.2],\n",
       "        [6.4, 2.9, 4.3, 1.3],\n",
       "        [6.6, 3. , 4.4, 1.4],\n",
       "        [6.8, 2.8, 4.8, 1.4],\n",
       "        [6.7, 3. , 5. , 1.7],\n",
       "        [6. , 2.9, 4.5, 1.5],\n",
       "        [5.7, 2.6, 3.5, 1. ],\n",
       "        [5.5, 2.4, 3.8, 1.1],\n",
       "        [5.5, 2.4, 3.7, 1. ],\n",
       "        [5.8, 2.7, 3.9, 1.2],\n",
       "        [6. , 2.7, 5.1, 1.6],\n",
       "        [5.4, 3. , 4.5, 1.5],\n",
       "        [6. , 3.4, 4.5, 1.6],\n",
       "        [6.7, 3.1, 4.7, 1.5],\n",
       "        [6.3, 2.3, 4.4, 1.3],\n",
       "        [5.6, 3. , 4.1, 1.3],\n",
       "        [5.5, 2.5, 4. , 1.3],\n",
       "        [5.5, 2.6, 4.4, 1.2],\n",
       "        [6.1, 3. , 4.6, 1.4],\n",
       "        [5.8, 2.6, 4. , 1.2],\n",
       "        [5. , 2.3, 3.3, 1. ],\n",
       "        [5.6, 2.7, 4.2, 1.3],\n",
       "        [5.7, 3. , 4.2, 1.2],\n",
       "        [5.7, 2.9, 4.2, 1.3],\n",
       "        [6.2, 2.9, 4.3, 1.3],\n",
       "        [5.1, 2.5, 3. , 1.1],\n",
       "        [5.7, 2.8, 4.1, 1.3],\n",
       "        [6.3, 3.3, 6. , 2.5],\n",
       "        [5.8, 2.7, 5.1, 1.9],\n",
       "        [7.1, 3. , 5.9, 2.1],\n",
       "        [6.3, 2.9, 5.6, 1.8],\n",
       "        [6.5, 3. , 5.8, 2.2],\n",
       "        [7.6, 3. , 6.6, 2.1],\n",
       "        [4.9, 2.5, 4.5, 1.7],\n",
       "        [7.3, 2.9, 6.3, 1.8],\n",
       "        [6.7, 2.5, 5.8, 1.8],\n",
       "        [7.2, 3.6, 6.1, 2.5],\n",
       "        [6.5, 3.2, 5.1, 2. ],\n",
       "        [6.4, 2.7, 5.3, 1.9],\n",
       "        [6.8, 3. , 5.5, 2.1],\n",
       "        [5.7, 2.5, 5. , 2. ],\n",
       "        [5.8, 2.8, 5.1, 2.4],\n",
       "        [6.4, 3.2, 5.3, 2.3],\n",
       "        [6.5, 3. , 5.5, 1.8],\n",
       "        [7.7, 3.8, 6.7, 2.2],\n",
       "        [7.7, 2.6, 6.9, 2.3],\n",
       "        [6. , 2.2, 5. , 1.5],\n",
       "        [6.9, 3.2, 5.7, 2.3],\n",
       "        [5.6, 2.8, 4.9, 2. ],\n",
       "        [7.7, 2.8, 6.7, 2. ],\n",
       "        [6.3, 2.7, 4.9, 1.8],\n",
       "        [6.7, 3.3, 5.7, 2.1],\n",
       "        [7.2, 3.2, 6. , 1.8],\n",
       "        [6.2, 2.8, 4.8, 1.8],\n",
       "        [6.1, 3. , 4.9, 1.8],\n",
       "        [6.4, 2.8, 5.6, 2.1],\n",
       "        [7.2, 3. , 5.8, 1.6],\n",
       "        [7.4, 2.8, 6.1, 1.9],\n",
       "        [7.9, 3.8, 6.4, 2. ],\n",
       "        [6.4, 2.8, 5.6, 2.2],\n",
       "        [6.3, 2.8, 5.1, 1.5],\n",
       "        [6.1, 2.6, 5.6, 1.4],\n",
       "        [7.7, 3. , 6.1, 2.3],\n",
       "        [6.3, 3.4, 5.6, 2.4],\n",
       "        [6.4, 3.1, 5.5, 1.8],\n",
       "        [6. , 3. , 4.8, 1.8],\n",
       "        [6.9, 3.1, 5.4, 2.1],\n",
       "        [6.7, 3.1, 5.6, 2.4],\n",
       "        [6.9, 3.1, 5.1, 2.3],\n",
       "        [5.8, 2.7, 5.1, 1.9],\n",
       "        [6.8, 3.2, 5.9, 2.3],\n",
       "        [6.7, 3.3, 5.7, 2.5],\n",
       "        [6.7, 3. , 5.2, 2.3],\n",
       "        [6.3, 2.5, 5. , 1.9],\n",
       "        [6.5, 3. , 5.2, 2. ],\n",
       "        [6.2, 3.4, 5.4, 2.3],\n",
       "        [5.9, 3. , 5.1, 1.8]]),\n",
       " 'data_module': 'sklearn.datasets.data',\n",
       " 'feature_names': ['sepal length (cm)',\n",
       "  'sepal width (cm)',\n",
       "  'petal length (cm)',\n",
       "  'petal width (cm)'],\n",
       " 'filename': 'iris.csv',\n",
       " 'frame': None,\n",
       " 'target': array([0, 0, 0, 0, 0, 0, 0, 0, 0, 0, 0, 0, 0, 0, 0, 0, 0, 0, 0, 0, 0, 0,\n",
       "        0, 0, 0, 0, 0, 0, 0, 0, 0, 0, 0, 0, 0, 0, 0, 0, 0, 0, 0, 0, 0, 0,\n",
       "        0, 0, 0, 0, 0, 0, 1, 1, 1, 1, 1, 1, 1, 1, 1, 1, 1, 1, 1, 1, 1, 1,\n",
       "        1, 1, 1, 1, 1, 1, 1, 1, 1, 1, 1, 1, 1, 1, 1, 1, 1, 1, 1, 1, 1, 1,\n",
       "        1, 1, 1, 1, 1, 1, 1, 1, 1, 1, 1, 1, 2, 2, 2, 2, 2, 2, 2, 2, 2, 2,\n",
       "        2, 2, 2, 2, 2, 2, 2, 2, 2, 2, 2, 2, 2, 2, 2, 2, 2, 2, 2, 2, 2, 2,\n",
       "        2, 2, 2, 2, 2, 2, 2, 2, 2, 2, 2, 2, 2, 2, 2, 2, 2, 2]),\n",
       " 'target_names': array(['setosa', 'versicolor', 'virginica'], dtype='<U10')}"
      ]
     },
     "execution_count": 4,
     "metadata": {},
     "output_type": "execute_result"
    }
   ],
   "source": [
    "iris = datasets.load_iris()\n",
    "iris"
   ]
  },
  {
   "cell_type": "code",
   "execution_count": 5,
   "metadata": {
    "colab": {
     "base_uri": "https://localhost:8080/"
    },
    "id": "HhPUIUmKi-Nz",
    "outputId": "bd79e5c4-7cd3-44bc-9ec9-eed547327948"
   },
   "outputs": [
    {
     "data": {
      "text/plain": [
       "sklearn.utils.Bunch"
      ]
     },
     "execution_count": 5,
     "metadata": {},
     "output_type": "execute_result"
    }
   ],
   "source": [
    "type(iris)"
   ]
  },
  {
   "cell_type": "code",
   "execution_count": 6,
   "metadata": {
    "colab": {
     "base_uri": "https://localhost:8080/",
     "height": 206
    },
    "id": "oFF9kPs5jdCt",
    "outputId": "deb6b676-68cf-48e6-a173-9814016edb53"
   },
   "outputs": [
    {
     "data": {
      "text/html": [
       "\n",
       "  <div id=\"df-61a638da-5455-4547-9a25-6dcf26eeedce\">\n",
       "    <div class=\"colab-df-container\">\n",
       "      <div>\n",
       "<style scoped>\n",
       "    .dataframe tbody tr th:only-of-type {\n",
       "        vertical-align: middle;\n",
       "    }\n",
       "\n",
       "    .dataframe tbody tr th {\n",
       "        vertical-align: top;\n",
       "    }\n",
       "\n",
       "    .dataframe thead th {\n",
       "        text-align: right;\n",
       "    }\n",
       "</style>\n",
       "<table border=\"1\" class=\"dataframe\">\n",
       "  <thead>\n",
       "    <tr style=\"text-align: right;\">\n",
       "      <th></th>\n",
       "      <th>sepal length (cm)</th>\n",
       "      <th>sepal width (cm)</th>\n",
       "      <th>petal length (cm)</th>\n",
       "      <th>petal width (cm)</th>\n",
       "    </tr>\n",
       "  </thead>\n",
       "  <tbody>\n",
       "    <tr>\n",
       "      <th>0</th>\n",
       "      <td>5.1</td>\n",
       "      <td>3.5</td>\n",
       "      <td>1.4</td>\n",
       "      <td>0.2</td>\n",
       "    </tr>\n",
       "    <tr>\n",
       "      <th>1</th>\n",
       "      <td>4.9</td>\n",
       "      <td>3.0</td>\n",
       "      <td>1.4</td>\n",
       "      <td>0.2</td>\n",
       "    </tr>\n",
       "    <tr>\n",
       "      <th>2</th>\n",
       "      <td>4.7</td>\n",
       "      <td>3.2</td>\n",
       "      <td>1.3</td>\n",
       "      <td>0.2</td>\n",
       "    </tr>\n",
       "    <tr>\n",
       "      <th>3</th>\n",
       "      <td>4.6</td>\n",
       "      <td>3.1</td>\n",
       "      <td>1.5</td>\n",
       "      <td>0.2</td>\n",
       "    </tr>\n",
       "    <tr>\n",
       "      <th>4</th>\n",
       "      <td>5.0</td>\n",
       "      <td>3.6</td>\n",
       "      <td>1.4</td>\n",
       "      <td>0.2</td>\n",
       "    </tr>\n",
       "  </tbody>\n",
       "</table>\n",
       "</div>\n",
       "      <button class=\"colab-df-convert\" onclick=\"convertToInteractive('df-61a638da-5455-4547-9a25-6dcf26eeedce')\"\n",
       "              title=\"Convert this dataframe to an interactive table.\"\n",
       "              style=\"display:none;\">\n",
       "        \n",
       "  <svg xmlns=\"http://www.w3.org/2000/svg\" height=\"24px\"viewBox=\"0 0 24 24\"\n",
       "       width=\"24px\">\n",
       "    <path d=\"M0 0h24v24H0V0z\" fill=\"none\"/>\n",
       "    <path d=\"M18.56 5.44l.94 2.06.94-2.06 2.06-.94-2.06-.94-.94-2.06-.94 2.06-2.06.94zm-11 1L8.5 8.5l.94-2.06 2.06-.94-2.06-.94L8.5 2.5l-.94 2.06-2.06.94zm10 10l.94 2.06.94-2.06 2.06-.94-2.06-.94-.94-2.06-.94 2.06-2.06.94z\"/><path d=\"M17.41 7.96l-1.37-1.37c-.4-.4-.92-.59-1.43-.59-.52 0-1.04.2-1.43.59L10.3 9.45l-7.72 7.72c-.78.78-.78 2.05 0 2.83L4 21.41c.39.39.9.59 1.41.59.51 0 1.02-.2 1.41-.59l7.78-7.78 2.81-2.81c.8-.78.8-2.07 0-2.86zM5.41 20L4 18.59l7.72-7.72 1.47 1.35L5.41 20z\"/>\n",
       "  </svg>\n",
       "      </button>\n",
       "      \n",
       "  <style>\n",
       "    .colab-df-container {\n",
       "      display:flex;\n",
       "      flex-wrap:wrap;\n",
       "      gap: 12px;\n",
       "    }\n",
       "\n",
       "    .colab-df-convert {\n",
       "      background-color: #E8F0FE;\n",
       "      border: none;\n",
       "      border-radius: 50%;\n",
       "      cursor: pointer;\n",
       "      display: none;\n",
       "      fill: #1967D2;\n",
       "      height: 32px;\n",
       "      padding: 0 0 0 0;\n",
       "      width: 32px;\n",
       "    }\n",
       "\n",
       "    .colab-df-convert:hover {\n",
       "      background-color: #E2EBFA;\n",
       "      box-shadow: 0px 1px 2px rgba(60, 64, 67, 0.3), 0px 1px 3px 1px rgba(60, 64, 67, 0.15);\n",
       "      fill: #174EA6;\n",
       "    }\n",
       "\n",
       "    [theme=dark] .colab-df-convert {\n",
       "      background-color: #3B4455;\n",
       "      fill: #D2E3FC;\n",
       "    }\n",
       "\n",
       "    [theme=dark] .colab-df-convert:hover {\n",
       "      background-color: #434B5C;\n",
       "      box-shadow: 0px 1px 3px 1px rgba(0, 0, 0, 0.15);\n",
       "      filter: drop-shadow(0px 1px 2px rgba(0, 0, 0, 0.3));\n",
       "      fill: #FFFFFF;\n",
       "    }\n",
       "  </style>\n",
       "\n",
       "      <script>\n",
       "        const buttonEl =\n",
       "          document.querySelector('#df-61a638da-5455-4547-9a25-6dcf26eeedce button.colab-df-convert');\n",
       "        buttonEl.style.display =\n",
       "          google.colab.kernel.accessAllowed ? 'block' : 'none';\n",
       "\n",
       "        async function convertToInteractive(key) {\n",
       "          const element = document.querySelector('#df-61a638da-5455-4547-9a25-6dcf26eeedce');\n",
       "          const dataTable =\n",
       "            await google.colab.kernel.invokeFunction('convertToInteractive',\n",
       "                                                     [key], {});\n",
       "          if (!dataTable) return;\n",
       "\n",
       "          const docLinkHtml = 'Like what you see? Visit the ' +\n",
       "            '<a target=\"_blank\" href=https://colab.research.google.com/notebooks/data_table.ipynb>data table notebook</a>'\n",
       "            + ' to learn more about interactive tables.';\n",
       "          element.innerHTML = '';\n",
       "          dataTable['output_type'] = 'display_data';\n",
       "          await google.colab.output.renderOutput(dataTable, element);\n",
       "          const docLink = document.createElement('div');\n",
       "          docLink.innerHTML = docLinkHtml;\n",
       "          element.appendChild(docLink);\n",
       "        }\n",
       "      </script>\n",
       "    </div>\n",
       "  </div>\n",
       "  "
      ],
      "text/plain": [
       "   sepal length (cm)  sepal width (cm)  petal length (cm)  petal width (cm)\n",
       "0                5.1               3.5                1.4               0.2\n",
       "1                4.9               3.0                1.4               0.2\n",
       "2                4.7               3.2                1.3               0.2\n",
       "3                4.6               3.1                1.5               0.2\n",
       "4                5.0               3.6                1.4               0.2"
      ]
     },
     "execution_count": 6,
     "metadata": {},
     "output_type": "execute_result"
    }
   ],
   "source": [
    "iris_df = pd.DataFrame(iris.data, columns=iris.feature_names)\n",
    "iris_df.head()"
   ]
  },
  {
   "cell_type": "code",
   "execution_count": 7,
   "metadata": {
    "id": "JJpDOM64mxQ-"
   },
   "outputs": [],
   "source": [
    "iris_df['target'] = [str(iris.target_names[x]) for x in iris.target]\n",
    "# iris_df['target'] =  iris.target"
   ]
  },
  {
   "cell_type": "code",
   "execution_count": 8,
   "metadata": {
    "colab": {
     "base_uri": "https://localhost:8080/",
     "height": 423
    },
    "id": "o0d7tRJHj2fP",
    "outputId": "038cb5c5-1472-4a34-93d6-ad12ab7e4437"
   },
   "outputs": [
    {
     "data": {
      "text/html": [
       "\n",
       "  <div id=\"df-57287bb8-f11f-47bc-8eaf-223473c62c63\">\n",
       "    <div class=\"colab-df-container\">\n",
       "      <div>\n",
       "<style scoped>\n",
       "    .dataframe tbody tr th:only-of-type {\n",
       "        vertical-align: middle;\n",
       "    }\n",
       "\n",
       "    .dataframe tbody tr th {\n",
       "        vertical-align: top;\n",
       "    }\n",
       "\n",
       "    .dataframe thead th {\n",
       "        text-align: right;\n",
       "    }\n",
       "</style>\n",
       "<table border=\"1\" class=\"dataframe\">\n",
       "  <thead>\n",
       "    <tr style=\"text-align: right;\">\n",
       "      <th></th>\n",
       "      <th>sepal length (cm)</th>\n",
       "      <th>sepal width (cm)</th>\n",
       "      <th>petal length (cm)</th>\n",
       "      <th>petal width (cm)</th>\n",
       "      <th>target</th>\n",
       "    </tr>\n",
       "  </thead>\n",
       "  <tbody>\n",
       "    <tr>\n",
       "      <th>0</th>\n",
       "      <td>5.1</td>\n",
       "      <td>3.5</td>\n",
       "      <td>1.4</td>\n",
       "      <td>0.2</td>\n",
       "      <td>setosa</td>\n",
       "    </tr>\n",
       "    <tr>\n",
       "      <th>1</th>\n",
       "      <td>4.9</td>\n",
       "      <td>3.0</td>\n",
       "      <td>1.4</td>\n",
       "      <td>0.2</td>\n",
       "      <td>setosa</td>\n",
       "    </tr>\n",
       "    <tr>\n",
       "      <th>2</th>\n",
       "      <td>4.7</td>\n",
       "      <td>3.2</td>\n",
       "      <td>1.3</td>\n",
       "      <td>0.2</td>\n",
       "      <td>setosa</td>\n",
       "    </tr>\n",
       "    <tr>\n",
       "      <th>3</th>\n",
       "      <td>4.6</td>\n",
       "      <td>3.1</td>\n",
       "      <td>1.5</td>\n",
       "      <td>0.2</td>\n",
       "      <td>setosa</td>\n",
       "    </tr>\n",
       "    <tr>\n",
       "      <th>4</th>\n",
       "      <td>5.0</td>\n",
       "      <td>3.6</td>\n",
       "      <td>1.4</td>\n",
       "      <td>0.2</td>\n",
       "      <td>setosa</td>\n",
       "    </tr>\n",
       "    <tr>\n",
       "      <th>...</th>\n",
       "      <td>...</td>\n",
       "      <td>...</td>\n",
       "      <td>...</td>\n",
       "      <td>...</td>\n",
       "      <td>...</td>\n",
       "    </tr>\n",
       "    <tr>\n",
       "      <th>145</th>\n",
       "      <td>6.7</td>\n",
       "      <td>3.0</td>\n",
       "      <td>5.2</td>\n",
       "      <td>2.3</td>\n",
       "      <td>virginica</td>\n",
       "    </tr>\n",
       "    <tr>\n",
       "      <th>146</th>\n",
       "      <td>6.3</td>\n",
       "      <td>2.5</td>\n",
       "      <td>5.0</td>\n",
       "      <td>1.9</td>\n",
       "      <td>virginica</td>\n",
       "    </tr>\n",
       "    <tr>\n",
       "      <th>147</th>\n",
       "      <td>6.5</td>\n",
       "      <td>3.0</td>\n",
       "      <td>5.2</td>\n",
       "      <td>2.0</td>\n",
       "      <td>virginica</td>\n",
       "    </tr>\n",
       "    <tr>\n",
       "      <th>148</th>\n",
       "      <td>6.2</td>\n",
       "      <td>3.4</td>\n",
       "      <td>5.4</td>\n",
       "      <td>2.3</td>\n",
       "      <td>virginica</td>\n",
       "    </tr>\n",
       "    <tr>\n",
       "      <th>149</th>\n",
       "      <td>5.9</td>\n",
       "      <td>3.0</td>\n",
       "      <td>5.1</td>\n",
       "      <td>1.8</td>\n",
       "      <td>virginica</td>\n",
       "    </tr>\n",
       "  </tbody>\n",
       "</table>\n",
       "<p>150 rows × 5 columns</p>\n",
       "</div>\n",
       "      <button class=\"colab-df-convert\" onclick=\"convertToInteractive('df-57287bb8-f11f-47bc-8eaf-223473c62c63')\"\n",
       "              title=\"Convert this dataframe to an interactive table.\"\n",
       "              style=\"display:none;\">\n",
       "        \n",
       "  <svg xmlns=\"http://www.w3.org/2000/svg\" height=\"24px\"viewBox=\"0 0 24 24\"\n",
       "       width=\"24px\">\n",
       "    <path d=\"M0 0h24v24H0V0z\" fill=\"none\"/>\n",
       "    <path d=\"M18.56 5.44l.94 2.06.94-2.06 2.06-.94-2.06-.94-.94-2.06-.94 2.06-2.06.94zm-11 1L8.5 8.5l.94-2.06 2.06-.94-2.06-.94L8.5 2.5l-.94 2.06-2.06.94zm10 10l.94 2.06.94-2.06 2.06-.94-2.06-.94-.94-2.06-.94 2.06-2.06.94z\"/><path d=\"M17.41 7.96l-1.37-1.37c-.4-.4-.92-.59-1.43-.59-.52 0-1.04.2-1.43.59L10.3 9.45l-7.72 7.72c-.78.78-.78 2.05 0 2.83L4 21.41c.39.39.9.59 1.41.59.51 0 1.02-.2 1.41-.59l7.78-7.78 2.81-2.81c.8-.78.8-2.07 0-2.86zM5.41 20L4 18.59l7.72-7.72 1.47 1.35L5.41 20z\"/>\n",
       "  </svg>\n",
       "      </button>\n",
       "      \n",
       "  <style>\n",
       "    .colab-df-container {\n",
       "      display:flex;\n",
       "      flex-wrap:wrap;\n",
       "      gap: 12px;\n",
       "    }\n",
       "\n",
       "    .colab-df-convert {\n",
       "      background-color: #E8F0FE;\n",
       "      border: none;\n",
       "      border-radius: 50%;\n",
       "      cursor: pointer;\n",
       "      display: none;\n",
       "      fill: #1967D2;\n",
       "      height: 32px;\n",
       "      padding: 0 0 0 0;\n",
       "      width: 32px;\n",
       "    }\n",
       "\n",
       "    .colab-df-convert:hover {\n",
       "      background-color: #E2EBFA;\n",
       "      box-shadow: 0px 1px 2px rgba(60, 64, 67, 0.3), 0px 1px 3px 1px rgba(60, 64, 67, 0.15);\n",
       "      fill: #174EA6;\n",
       "    }\n",
       "\n",
       "    [theme=dark] .colab-df-convert {\n",
       "      background-color: #3B4455;\n",
       "      fill: #D2E3FC;\n",
       "    }\n",
       "\n",
       "    [theme=dark] .colab-df-convert:hover {\n",
       "      background-color: #434B5C;\n",
       "      box-shadow: 0px 1px 3px 1px rgba(0, 0, 0, 0.15);\n",
       "      filter: drop-shadow(0px 1px 2px rgba(0, 0, 0, 0.3));\n",
       "      fill: #FFFFFF;\n",
       "    }\n",
       "  </style>\n",
       "\n",
       "      <script>\n",
       "        const buttonEl =\n",
       "          document.querySelector('#df-57287bb8-f11f-47bc-8eaf-223473c62c63 button.colab-df-convert');\n",
       "        buttonEl.style.display =\n",
       "          google.colab.kernel.accessAllowed ? 'block' : 'none';\n",
       "\n",
       "        async function convertToInteractive(key) {\n",
       "          const element = document.querySelector('#df-57287bb8-f11f-47bc-8eaf-223473c62c63');\n",
       "          const dataTable =\n",
       "            await google.colab.kernel.invokeFunction('convertToInteractive',\n",
       "                                                     [key], {});\n",
       "          if (!dataTable) return;\n",
       "\n",
       "          const docLinkHtml = 'Like what you see? Visit the ' +\n",
       "            '<a target=\"_blank\" href=https://colab.research.google.com/notebooks/data_table.ipynb>data table notebook</a>'\n",
       "            + ' to learn more about interactive tables.';\n",
       "          element.innerHTML = '';\n",
       "          dataTable['output_type'] = 'display_data';\n",
       "          await google.colab.output.renderOutput(dataTable, element);\n",
       "          const docLink = document.createElement('div');\n",
       "          docLink.innerHTML = docLinkHtml;\n",
       "          element.appendChild(docLink);\n",
       "        }\n",
       "      </script>\n",
       "    </div>\n",
       "  </div>\n",
       "  "
      ],
      "text/plain": [
       "     sepal length (cm)  sepal width (cm)  petal length (cm)  petal width (cm)  \\\n",
       "0                  5.1               3.5                1.4               0.2   \n",
       "1                  4.9               3.0                1.4               0.2   \n",
       "2                  4.7               3.2                1.3               0.2   \n",
       "3                  4.6               3.1                1.5               0.2   \n",
       "4                  5.0               3.6                1.4               0.2   \n",
       "..                 ...               ...                ...               ...   \n",
       "145                6.7               3.0                5.2               2.3   \n",
       "146                6.3               2.5                5.0               1.9   \n",
       "147                6.5               3.0                5.2               2.0   \n",
       "148                6.2               3.4                5.4               2.3   \n",
       "149                5.9               3.0                5.1               1.8   \n",
       "\n",
       "        target  \n",
       "0       setosa  \n",
       "1       setosa  \n",
       "2       setosa  \n",
       "3       setosa  \n",
       "4       setosa  \n",
       "..         ...  \n",
       "145  virginica  \n",
       "146  virginica  \n",
       "147  virginica  \n",
       "148  virginica  \n",
       "149  virginica  \n",
       "\n",
       "[150 rows x 5 columns]"
      ]
     },
     "execution_count": 8,
     "metadata": {},
     "output_type": "execute_result"
    }
   ],
   "source": [
    "iris_df"
   ]
  },
  {
   "cell_type": "code",
   "execution_count": 9,
   "metadata": {
    "colab": {
     "base_uri": "https://localhost:8080/"
    },
    "id": "pjTbeeP2qSwJ",
    "outputId": "c16df988-6648-4552-c410-60af84c5f48c"
   },
   "outputs": [
    {
     "data": {
      "text/plain": [
       "sepal length (cm)    float64\n",
       "sepal width (cm)     float64\n",
       "petal length (cm)    float64\n",
       "petal width (cm)     float64\n",
       "target                object\n",
       "dtype: object"
      ]
     },
     "execution_count": 9,
     "metadata": {},
     "output_type": "execute_result"
    }
   ],
   "source": [
    "iris_df.dtypes"
   ]
  },
  {
   "cell_type": "markdown",
   "metadata": {
    "id": "8pUTGXjsp0L5"
   },
   "source": [
    "Write a function that reads the data using Spark data frames. Converting Pandas Dataframe to Spark Dataframe"
   ]
  },
  {
   "cell_type": "code",
   "execution_count": 10,
   "metadata": {
    "id": "FdAHfkUsjl0g"
   },
   "outputs": [],
   "source": [
    "iris_spark_df = spark.createDataFrame(iris_df)\n"
   ]
  },
  {
   "cell_type": "code",
   "execution_count": 11,
   "metadata": {
    "colab": {
     "base_uri": "https://localhost:8080/"
    },
    "id": "hNOJO8HCj3ep",
    "outputId": "89c00dcc-e4d8-494f-919d-6b4b09775cfb"
   },
   "outputs": [
    {
     "name": "stdout",
     "output_type": "stream",
     "text": [
      "root\n",
      " |-- sepal length (cm): double (nullable = true)\n",
      " |-- sepal width (cm): double (nullable = true)\n",
      " |-- petal length (cm): double (nullable = true)\n",
      " |-- petal width (cm): double (nullable = true)\n",
      " |-- target: string (nullable = true)\n",
      "\n"
     ]
    }
   ],
   "source": [
    "iris_spark_df.printSchema()\n"
   ]
  },
  {
   "cell_type": "code",
   "execution_count": 12,
   "metadata": {
    "colab": {
     "base_uri": "https://localhost:8080/"
    },
    "id": "gyPLCYUZqD3B",
    "outputId": "f150b5c3-3a42-43c9-aad4-9240535de047"
   },
   "outputs": [
    {
     "name": "stdout",
     "output_type": "stream",
     "text": [
      "+-----------------+----------------+-----------------+----------------+------+\n",
      "|sepal length (cm)|sepal width (cm)|petal length (cm)|petal width (cm)|target|\n",
      "+-----------------+----------------+-----------------+----------------+------+\n",
      "|              5.1|             3.5|              1.4|             0.2|setosa|\n",
      "|              4.9|             3.0|              1.4|             0.2|setosa|\n",
      "|              4.7|             3.2|              1.3|             0.2|setosa|\n",
      "|              4.6|             3.1|              1.5|             0.2|setosa|\n",
      "|              5.0|             3.6|              1.4|             0.2|setosa|\n",
      "|              5.4|             3.9|              1.7|             0.4|setosa|\n",
      "|              4.6|             3.4|              1.4|             0.3|setosa|\n",
      "|              5.0|             3.4|              1.5|             0.2|setosa|\n",
      "|              4.4|             2.9|              1.4|             0.2|setosa|\n",
      "|              4.9|             3.1|              1.5|             0.1|setosa|\n",
      "|              5.4|             3.7|              1.5|             0.2|setosa|\n",
      "|              4.8|             3.4|              1.6|             0.2|setosa|\n",
      "|              4.8|             3.0|              1.4|             0.1|setosa|\n",
      "|              4.3|             3.0|              1.1|             0.1|setosa|\n",
      "|              5.8|             4.0|              1.2|             0.2|setosa|\n",
      "|              5.7|             4.4|              1.5|             0.4|setosa|\n",
      "|              5.4|             3.9|              1.3|             0.4|setosa|\n",
      "|              5.1|             3.5|              1.4|             0.3|setosa|\n",
      "|              5.7|             3.8|              1.7|             0.3|setosa|\n",
      "|              5.1|             3.8|              1.5|             0.3|setosa|\n",
      "+-----------------+----------------+-----------------+----------------+------+\n",
      "only showing top 20 rows\n",
      "\n"
     ]
    }
   ],
   "source": [
    "iris_spark_df.show()"
   ]
  },
  {
   "cell_type": "markdown",
   "metadata": {
    "id": "KnmTdpxmD6v-"
   },
   "source": [
    "Normalize the data:\n",
    "○ Subtract the mean of the respective column from each cell, and divide that with\n",
    "the standard deviation of that column. Check the below url on how to do that:\n",
    "○ Mean: https://sparkbyexamples.com/spark/spark-sql-aggregate-functions/#mean\n",
    "○ Standard Deviation:\n",
    "https://sparkbyexamples.com/spark/spark-sql-aggregate-functions/#stddev"
   ]
  },
  {
   "cell_type": "code",
   "execution_count": 13,
   "metadata": {
    "id": "VnJf_eevRZnt"
   },
   "outputs": [],
   "source": [
    "def standarzise_data(iris_spark_df):\n",
    "  column = iris_spark_df.columns[:-1]\n",
    "  for col_name in column:\n",
    "    col_mean, col_sd = iris_spark_df.select(mean(col_name), stddev(col_name)).first()\n",
    "    iris_spark_df = iris_spark_df.withColumn(col_name, (iris_spark_df[col_name] - col_mean)/col_sd )\n",
    "\n",
    "  return iris_spark_df\n"
   ]
  },
  {
   "cell_type": "code",
   "execution_count": 14,
   "metadata": {
    "id": "DvTfhhwuWHTr"
   },
   "outputs": [],
   "source": [
    "iris_spark_df = standarzise_data(iris_spark_df)"
   ]
  },
  {
   "cell_type": "code",
   "execution_count": 15,
   "metadata": {
    "colab": {
     "base_uri": "https://localhost:8080/"
    },
    "id": "ac64OTSmWd4d",
    "outputId": "75c7db51-d153-4514-df1b-bff0340d3874"
   },
   "outputs": [
    {
     "name": "stdout",
     "output_type": "stream",
     "text": [
      "+--------------------+--------------------+-------------------+-------------------+------+\n",
      "|   sepal length (cm)|    sepal width (cm)|  petal length (cm)|   petal width (cm)|target|\n",
      "+--------------------+--------------------+-------------------+-------------------+------+\n",
      "| -0.8976738791967641|   1.015601990713633|-1.3357516342415203|-1.3110521482051298|setosa|\n",
      "| -1.1392004834649514| -0.1315388120502606|-1.3357516342415203|-1.3110521482051298|setosa|\n",
      "| -1.3807270877331395|  0.3273175090552973|-1.3923992862449777|-1.3110521482051298|setosa|\n",
      "| -1.5014903898672343| 0.09788934850251833|-1.2791039822380632|-1.3110521482051298|setosa|\n",
      "| -1.0184371813308577|   1.245030151266412|-1.3357516342415203|-1.3110521482051298|setosa|\n",
      "| -0.5353839727944812|  1.9333146329247477|-1.1658086782311488|-1.0486667949952972|setosa|\n",
      "| -1.5014903898672343|  0.7861738301608542|-1.3357516342415203|-1.1798594716002135|setosa|\n",
      "| -1.0184371813308577|  0.7861738301608542|-1.2791039822380632|-1.3110521482051298|setosa|\n",
      "| -1.7430169941354212|-0.36096697260303956|-1.3357516342415203|-1.3110521482051298|setosa|\n",
      "| -1.1392004834649514| 0.09788934850251833|-1.2791039822380632| -1.442244824810046|setosa|\n",
      "| -0.5353839727944812|   1.474458311819191|-1.2791039822380632|-1.3110521482051298|setosa|\n",
      "|  -1.259963785599046|  0.7861738301608542|-1.2224563302346059|-1.3110521482051298|setosa|\n",
      "|  -1.259963785599046| -0.1315388120502606|-1.3357516342415203| -1.442244824810046|setosa|\n",
      "|  -1.863780296269516| -0.1315388120502606|-1.5056945902518917| -1.442244824810046|setosa|\n",
      "|-0.05233076425810593|  2.1627427934775265|-1.4490469382484346|-1.3110521482051298|setosa|\n",
      "| -0.1730940663921995|  3.0804554356886427|-1.2791039822380632|-1.0486667949952972|setosa|\n",
      "| -0.5353839727944812|  1.9333146329247477|-1.3923992862449777|-1.0486667949952972|setosa|\n",
      "| -0.8976738791967641|   1.015601990713633|-1.3357516342415203|-1.1798594716002135|setosa|\n",
      "| -0.1730940663921995|  1.7038864723719689|-1.1658086782311488|-1.1798594716002135|setosa|\n",
      "| -0.8976738791967641|  1.7038864723719689|-1.2791039822380632|-1.1798594716002135|setosa|\n",
      "+--------------------+--------------------+-------------------+-------------------+------+\n",
      "only showing top 20 rows\n",
      "\n"
     ]
    }
   ],
   "source": [
    "iris_spark_df.show()"
   ]
  },
  {
   "cell_type": "code",
   "execution_count": 16,
   "metadata": {
    "colab": {
     "base_uri": "https://localhost:8080/"
    },
    "id": "hT0KNCUmRGke",
    "outputId": "7925aace-1469-456b-996c-f6aadc3c514c"
   },
   "outputs": [
    {
     "data": {
      "text/plain": [
       "['sepal length (cm)',\n",
       " 'sepal width (cm)',\n",
       " 'petal length (cm)',\n",
       " 'petal width (cm)',\n",
       " 'target']"
      ]
     },
     "execution_count": 16,
     "metadata": {},
     "output_type": "execute_result"
    }
   ],
   "source": [
    "iris_spark_df.columns"
   ]
  },
  {
   "cell_type": "code",
   "execution_count": null,
   "metadata": {
    "id": "2cW7_W-vkBBd"
   },
   "outputs": [],
   "source": []
  },
  {
   "cell_type": "markdown",
   "metadata": {
    "id": "VlfPr0pwDI7d"
   },
   "source": [
    "Randomly divide the data into three sets such that one set has around 60% data sample\n",
    "and the other two have 20% data sample each. Let's call the 60% set as the train set\n",
    "and the 20% set as the validation set and the other 20% as the test set. (Note: This has\n",
    "to be a random division)"
   ]
  },
  {
   "cell_type": "code",
   "execution_count": 41,
   "metadata": {
    "id": "BowuCGuvDMnI"
   },
   "outputs": [],
   "source": [
    "train_df, val_df, test_df = iris_spark_df.randomSplit([0.6, 0.2, 0.2], seed = 12)"
   ]
  },
  {
   "cell_type": "code",
   "execution_count": 42,
   "metadata": {
    "colab": {
     "base_uri": "https://localhost:8080/"
    },
    "id": "pmyzepbGk9es",
    "outputId": "eba9f653-fa3a-4c39-8f10-d2617d7a04ee"
   },
   "outputs": [
    {
     "data": {
      "text/plain": [
       "(102, 19, 29)"
      ]
     },
     "execution_count": 42,
     "metadata": {},
     "output_type": "execute_result"
    }
   ],
   "source": [
    "train_df.count(), val_df.count(), test_df.count()"
   ]
  },
  {
   "cell_type": "code",
   "execution_count": 43,
   "metadata": {
    "colab": {
     "base_uri": "https://localhost:8080/"
    },
    "id": "oAtxoJqJDnIi",
    "outputId": "03d0812a-af55-45b3-8576-0267c5242abf"
   },
   "outputs": [
    {
     "name": "stdout",
     "output_type": "stream",
     "text": [
      "+-------------------+-------------------+-------------------+--------------------+----------+\n",
      "|  sepal length (cm)|   sepal width (cm)|  petal length (cm)|    petal width (cm)|    target|\n",
      "+-------------------+-------------------+-------------------+--------------------+----------+\n",
      "| -1.863780296269516|-0.1315388120502606|-1.5056945902518917|  -1.442244824810046|    setosa|\n",
      "|-1.7430169941354212| 0.3273175090552973|-1.3923992862449777| -1.3110521482051298|    setosa|\n",
      "|-1.6222536920013277|-1.7375359359197122|-1.3923992862449777| -1.1798594716002135|    setosa|\n",
      "|-1.5014903898672343|0.09788934850251833|-1.2791039822380632| -1.3110521482051298|    setosa|\n",
      "|-1.5014903898672343| 0.3273175090552973|-1.3357516342415203| -1.3110521482051298|    setosa|\n",
      "|-1.5014903898672343|  1.245030151266412| -1.562342242255349| -1.3110521482051298|    setosa|\n",
      "|-1.3807270877331395| 0.3273175090552973|-1.3923992862449777| -1.3110521482051298|    setosa|\n",
      "|-1.3807270877331395| 0.3273175090552973|-1.2224563302346059| -1.3110521482051298|    setosa|\n",
      "| -1.259963785599046|-0.1315388120502606|-1.3357516342415203|  -1.442244824810046|    setosa|\n",
      "| -1.259963785599046|0.09788934850251833|-1.2224563302346059| -1.3110521482051298|    setosa|\n",
      "| -1.259963785599046| 0.7861738301608542|-1.2224563302346059| -1.3110521482051298|    setosa|\n",
      "| -1.259963785599046| 0.7861738301608542|-1.0525133742242345| -1.3110521482051298|    setosa|\n",
      "|-1.1392004834649514|-1.5081077753669332|-0.2594462461758344|-0.26151073536579955|versicolor|\n",
      "|-1.1392004834649514|-0.1315388120502606|-1.3357516342415203| -1.3110521482051298|    setosa|\n",
      "|-1.1392004834649514|  1.245030151266412|-1.3357516342415203|  -1.442244824810046|    setosa|\n",
      "|-1.0184371813308577|-0.1315388120502606|-1.2224563302346059| -1.3110521482051298|    setosa|\n",
      "|-1.0184371813308577| 0.3273175090552973|-1.4490469382484346| -1.3110521482051298|    setosa|\n",
      "|-1.0184371813308577|  1.015601990713633|-1.2224563302346059| -0.7862814417854647|    setosa|\n",
      "|-1.0184371813308577|  1.245030151266412|-1.3357516342415203| -1.3110521482051298|    setosa|\n",
      "|-0.8976738791967641| 0.5567456696080751|-1.1658086782311488|  -0.917474118390381|    setosa|\n",
      "+-------------------+-------------------+-------------------+--------------------+----------+\n",
      "only showing top 20 rows\n",
      "\n"
     ]
    }
   ],
   "source": [
    "train_df.show()"
   ]
  },
  {
   "cell_type": "code",
   "execution_count": 44,
   "metadata": {
    "colab": {
     "base_uri": "https://localhost:8080/"
    },
    "id": "OG4tqm48DthX",
    "outputId": "faf7db81-3a0b-4f1f-9c04-a5f4d1391342"
   },
   "outputs": [
    {
     "name": "stdout",
     "output_type": "stream",
     "text": [
      "+--------------------+-------------------+-------------------+--------------------+----------+\n",
      "|   sepal length (cm)|   sepal width (cm)|  petal length (cm)|    petal width (cm)|    target|\n",
      "+--------------------+-------------------+-------------------+--------------------+----------+\n",
      "| -1.7430169941354212|-0.1315388120502606|-1.3923992862449777| -1.3110521482051298|    setosa|\n",
      "|  -1.259963785599046|-0.1315388120502606|-1.3357516342415203| -1.1798594716002135|    setosa|\n",
      "| -1.1392004834649514|0.09788934850251833|-1.2791039822380632|  -1.442244824810046|    setosa|\n",
      "| -1.0184371813308577| -2.425820417578048|  -0.14615094216892|-0.26151073536579955|versicolor|\n",
      "| -1.0184371813308577| 0.7861738301608542|-1.2791039822380632| -1.3110521482051298|    setosa|\n",
      "| -0.7769105770626695|-0.8198232937085964|0.08043966584490861| 0.26325997105386545|versicolor|\n",
      "| -0.1730940663921995| 1.7038864723719689|-1.1658086782311488| -1.1798594716002135|    setosa|\n",
      "| -0.5353839727944812|-0.1315388120502606| 0.4203255778656516| 0.39445264765878185|versicolor|\n",
      "| -0.4146206706603877|-1.2786796148141544| 0.1370873178483658| 0.13206729444894938|versicolor|\n",
      "|-0.05233076425810593|-0.8198232937085964| 0.7602114898863944|  0.9192233540784469| virginica|\n",
      "|  0.1891958400100823|-0.1315388120502606|  0.590268533876023|  0.7880306774735307| virginica|\n",
      "|   0.551485746412364|-1.7375359359197122|0.36367792586219466| 0.13206729444894938|versicolor|\n",
      "|   0.551485746412364|-1.2786796148141544| 0.7035638378829374|  0.9192233540784469| virginica|\n",
      "|   0.551485746412364|-0.8198232937085964| 0.6469161858794805|  0.7880306774735307| virginica|\n",
      "|  0.6722490485464587|-0.5903951331558185| 1.0434497499036801|   1.312801383893196| virginica|\n",
      "|  0.7930123506805523| 0.3273175090552973| 0.7602114898863944|  1.0504160306833632| virginica|\n",
      "|  1.0345389549487405|-0.1315388120502606| 0.7035638378829374|  0.6568380008686143|versicolor|\n",
      "|  1.0345389549487405|0.09788934850251833| 1.0434497499036801|  1.5751867371030284| virginica|\n",
      "|  1.0345389549487405| 0.5567456696080751| 1.1000974019071377|  1.7063794137079447| virginica|\n",
      "+--------------------+-------------------+-------------------+--------------------+----------+\n",
      "\n"
     ]
    }
   ],
   "source": [
    "val_df.show()"
   ]
  },
  {
   "cell_type": "code",
   "execution_count": 45,
   "metadata": {
    "colab": {
     "base_uri": "https://localhost:8080/"
    },
    "id": "6ama-EwwDxo5",
    "outputId": "af018083-93b4-4384-a193-7e3009d9ceed"
   },
   "outputs": [
    {
     "name": "stdout",
     "output_type": "stream",
     "text": [
      "+--------------------+--------------------+-------------------+--------------------+----------+\n",
      "|   sepal length (cm)|    sepal width (cm)|  petal length (cm)|    petal width (cm)|    target|\n",
      "+--------------------+--------------------+-------------------+--------------------+----------+\n",
      "| -1.7430169941354212|-0.36096697260303956|-1.3357516342415203| -1.3110521482051298|    setosa|\n",
      "| -1.5014903898672343|  0.7861738301608542|-1.3357516342415203| -1.1798594716002135|    setosa|\n",
      "| -1.1392004834649514| 0.09788934850251833|-1.2791039822380632| -1.3110521482051298|    setosa|\n",
      "| -1.0184371813308577|  0.5567456696080751|-1.3357516342415203| -1.3110521482051298|    setosa|\n",
      "| -1.0184371813308577|  0.7861738301608542|-1.2224563302346059| -1.0486667949952972|    setosa|\n",
      "| -1.0184371813308577|   1.015601990713633|-1.3923992862449777| -1.1798594716002135|    setosa|\n",
      "| -0.8976738791967641|   1.015601990713633|-1.3357516342415203| -1.1798594716002135|    setosa|\n",
      "| -0.7769105770626695|  0.7861738301608542|-1.3357516342415203| -1.3110521482051298|    setosa|\n",
      "| -0.6561472749285759|   1.474458311819191|-1.2791039822380632| -1.3110521482051298|    setosa|\n",
      "| -0.5353839727944812|  1.9333146329247477|-1.3923992862449777| -1.0486667949952972|    setosa|\n",
      "| -0.2938573685262941| -1.2786796148141544|0.08043966584490861|-0.13031805876088315|versicolor|\n",
      "|-0.05233076425810593|  2.1627427934775265|-1.4490469382484346| -1.3110521482051298|    setosa|\n",
      "| 0.30995914214417586| -0.5903951331558185| 0.1370873178483658| 0.13206729444894938|versicolor|\n",
      "|  0.4307224442782705| -1.9669640964724902| 0.4203255778656516| 0.39445264765878185|versicolor|\n",
      "|  0.9137756528146459|-0.36096697260303956|0.47697322986910856| 0.13206729444894938|versicolor|\n",
      "| -1.0184371813308577| -1.7375359359197122|-0.2594462461758344|-0.26151073536579955|versicolor|\n",
      "| -0.4146206706603877| -1.5081077753669332| 0.0237920138414514|-0.13031805876088315|versicolor|\n",
      "| -0.1730940663921995| -1.0492514542613753|  -0.14615094216892|-0.26151073536579955|versicolor|\n",
      "|  0.1891958400100823| -0.8198232937085964| 0.7602114898863944|  0.5256453242636983|versicolor|\n",
      "|  0.1891958400100823|-0.36096697260303956| 0.4203255778656516| 0.39445264765878185|versicolor|\n",
      "+--------------------+--------------------+-------------------+--------------------+----------+\n",
      "only showing top 20 rows\n",
      "\n"
     ]
    }
   ],
   "source": [
    "test_df.show()"
   ]
  },
  {
   "cell_type": "markdown",
   "metadata": {
    "id": "H90IZX_BsXKc"
   },
   "source": [
    "● Write a function which calculates the Euclidean Distance between two rows:\n",
    "https://en.wikipedia.org/wiki/Euclidean_distance\n",
    "○ Note: the class column is ignored while calculating the distance.\n",
    "○ Optional: You can write this function in such a way that you can calculate the\n",
    "distance of one row with all the other rows at once."
   ]
  },
  {
   "cell_type": "code",
   "execution_count": 83,
   "metadata": {
    "id": "v3463txZsURl"
   },
   "outputs": [],
   "source": [
    "\n",
    "def euclideanDistance(data_1, data_2): \n",
    "    euc_distance = 0\n",
    "   \n",
    "    cntr = 0\n",
    "    while cntr < len(data_1)-1:\n",
    "          euc_distance = euc_distance + pow((data_1[cntr] - data_2[cntr]), 2)\n",
    "          cntr += 1\n",
    "    \n",
    "    # print(dist)\n",
    "\n",
    "    return (euc_distance)**0.5\n",
    "\n",
    "\n",
    "\n",
    "    "
   ]
  },
  {
   "cell_type": "markdown",
   "metadata": {
    "id": "W1KdQ1uulmcC"
   },
   "source": [
    "Fetching k nearest neighbor: Randomly guess a value for k, let’s say k = 5. For each\n",
    "row in the validation data set, repeatedly use your euclidean function to calculate the\n",
    "distance with each row of the train set. Once you have all the distances, select the k\n",
    "minimum distances and get the corresponding training data samples for these k\n",
    "distances.\n",
    "\n",
    "\n",
    "● Making a prediction: From the above k train samples, get the most frequent class label.\n",
    "This class label is the prediction for one validation data sample/row. Repeat the above\n",
    "two points for each data sample in the validation data sample/row."
   ]
  },
  {
   "cell_type": "code",
   "execution_count": 83,
   "metadata": {
    "id": "_Dmw3XNbqtKW"
   },
   "outputs": [],
   "source": []
  },
  {
   "cell_type": "code",
   "execution_count": 144,
   "metadata": {
    "id": "JlzQadtI8mEK"
   },
   "outputs": [],
   "source": [
    "def getNeighbours(K, val_df, train_df):\n",
    "   \n",
    "    all_distance_target_list = []\n",
    "    for i in range(train_df.count()):\n",
    "        euc_distiance = euclideanDistance(train_df.collect()[i], val_df)\n",
    "        \n",
    "        all_distance_target_list.append([euc_distiance, train_df.collect()[i][len(val_df)-1]])\n",
    "        all_distance_target_list.sort()\n",
    "        \n",
    "    \n",
    "    neigbours_list = [x[1] for x in all_distance_target_list[:K]]   \n",
    "\n",
    "    return neigbours_list"
   ]
  },
  {
   "cell_type": "code",
   "execution_count": 146,
   "metadata": {
    "id": "eYvOXpBFoe7s"
   },
   "outputs": [],
   "source": [
    "K = [5, 10, 15, 20, 25]"
   ]
  },
  {
   "cell_type": "code",
   "execution_count": 148,
   "metadata": {
    "id": "EIg1khz5zoA0"
   },
   "outputs": [],
   "source": []
  },
  {
   "cell_type": "code",
   "execution_count": 149,
   "metadata": {
    "id": "4d3ipixCxxXB"
   },
   "outputs": [],
   "source": [
    "def get_predictions(k, val_df, train_df):\n",
    "      targets_list = getNeighbours(k, val_df, train_df)\n",
    "      # print(targets_list)\n",
    "      counts_of_all_targets = Counter(targets_list)\n",
    "\n",
    "      final_target = None\n",
    "      final_count = 0\n",
    "\n",
    "      for target, count in counts_of_all_targets.items():\n",
    "        if count > final_count:\n",
    "          final_count = count\n",
    "          final_target = target\n",
    "\n",
    "      return final_target\n"
   ]
  },
  {
   "cell_type": "markdown",
   "metadata": {
    "id": "GR5ghFhq4A6A"
   },
   "source": [
    "Training"
   ]
  },
  {
   "cell_type": "code",
   "execution_count": 153,
   "metadata": {
    "id": "wB1g725S4FAN"
   },
   "outputs": [],
   "source": [
    "K_training_accuracies = []\n",
    "for k in range(len(K)):\n",
    "    # acc, _, _ = get_accuracy(train_df, val_df, K[k])  acc / test_df.count(), preds, actuals\n",
    "\n",
    "    count_of_accuracy = 0\n",
    "    predictions = []\n",
    "    true_values = []\n",
    "    for i in range(val_df.count()):\n",
    "        pred = get_predictions(k, val_df.collect()[i], train_df)\n",
    "        true_val = val_df.collect()[i][len(val_df.collect()[0])-1]\n",
    "\n",
    "        if pred == true_val:\n",
    "            count_of_accuracy += 1\n",
    "        predictions.append(pred)\n",
    "        true_values.append(true_val)\n",
    "    \n",
    "\n",
    "    K_training_accuracies.append(count_of_accuracy/val_df.count())"
   ]
  },
  {
   "cell_type": "code",
   "execution_count": 159,
   "metadata": {
    "colab": {
     "base_uri": "https://localhost:8080/"
    },
    "id": "Lddv0JLSpq1R",
    "outputId": "2cc3ede9-b890-4714-c171-93490aab059d"
   },
   "outputs": [
    {
     "name": "stdout",
     "output_type": "stream",
     "text": [
      "Training/Validation accuracy is  0.0  for k  5\n",
      "Training/Validation accuracy is  1.0  for k  10\n",
      "Training/Validation accuracy is  1.0  for k  15\n",
      "Training/Validation accuracy is  1.0  for k  20\n",
      "Training/Validation accuracy is  1.0  for k  25\n"
     ]
    }
   ],
   "source": [
    "\n",
    "for i in range(len(K)):\n",
    "    print(\"Training/Validation accuracy is \", K_training_accuracies[i], \" for k \", K[i])"
   ]
  },
  {
   "cell_type": "code",
   "execution_count": 156,
   "metadata": {
    "id": "4_L6W3CK6cUB"
   },
   "outputs": [],
   "source": [
    "best_k = K[K_training_accuracies.index(max(K_training_accuracies))]"
   ]
  },
  {
   "cell_type": "code",
   "execution_count": 157,
   "metadata": {
    "colab": {
     "base_uri": "https://localhost:8080/"
    },
    "id": "RvXpe_PS6t-N",
    "outputId": "f8fd91f9-f3e0-4e30-94c0-82d31e70c3f2"
   },
   "outputs": [
    {
     "data": {
      "text/plain": [
       "10"
      ]
     },
     "execution_count": 157,
     "metadata": {},
     "output_type": "execute_result"
    }
   ],
   "source": [
    "best_k"
   ]
  },
  {
   "cell_type": "markdown",
   "metadata": {
    "id": "IaXrLPJEA6Iy"
   },
   "source": [
    "Testing"
   ]
  },
  {
   "cell_type": "code",
   "execution_count": 160,
   "metadata": {
    "colab": {
     "base_uri": "https://localhost:8080/"
    },
    "id": "7834OO3lEqaY",
    "outputId": "559027bc-28b9-4acb-d6a4-9e508470c9e5"
   },
   "outputs": [
    {
     "name": "stdout",
     "output_type": "stream",
     "text": [
      "Predicted Values:  ['setosa', 'setosa', 'setosa', 'setosa', 'setosa', 'setosa', 'setosa', 'setosa', 'setosa', 'setosa', 'versicolor', 'setosa', 'versicolor', 'versicolor', 'versicolor', 'versicolor', 'versicolor', 'versicolor', 'virginica', 'versicolor', 'versicolor', 'versicolor', 'virginica', 'virginica', 'virginica', 'virginica', 'virginica', 'virginica', 'virginica']\n",
      "Actual Values:  ['setosa', 'setosa', 'setosa', 'setosa', 'setosa', 'setosa', 'setosa', 'setosa', 'setosa', 'setosa', 'versicolor', 'setosa', 'versicolor', 'versicolor', 'versicolor', 'versicolor', 'versicolor', 'versicolor', 'versicolor', 'versicolor', 'versicolor', 'virginica', 'virginica', 'virginica', 'virginica', 'virginica', 'virginica', 'virginica', 'virginica']\n",
      "Accuracy:  0.9310344827586207\n"
     ]
    }
   ],
   "source": [
    "\n",
    "count_of_accuracy = 0\n",
    "predictions = []\n",
    "true_values = []\n",
    "for i in range(test_df.count()):\n",
    "    pred = get_predictions(k, test_df.collect()[i], train_df)\n",
    "    true_val = test_df.collect()[i][len(test_df.collect()[0])-1]\n",
    "    if pred == true_val:\n",
    "        count_of_accuracy += 1\n",
    "    predictions.append(pred)\n",
    "    true_values.append(true_val)\n",
    "\n",
    "\n",
    "print(\"Predicted Values: \", predictions)\n",
    "print(\"Actual Values: \", true_values)\n",
    "print(\"Accuracy: \", count_of_accuracy/test_df.count())"
   ]
  },
  {
   "cell_type": "markdown",
   "metadata": {},
   "source": [
    "The Testing Accuracy is 93.10%"
   ]
  },
  {
   "cell_type": "code",
   "execution_count": null,
   "metadata": {},
   "outputs": [],
   "source": []
  },
  {
   "cell_type": "code",
   "execution_count": 178,
   "metadata": {
    "colab": {
     "base_uri": "https://localhost:8080/"
    },
    "id": "8K40DsEP8BI8",
    "outputId": "bf21eac2-06ab-48a2-9765-b559e4f8b1f0"
   },
   "outputs": [
    {
     "data": {
      "text/plain": [
       "0.48782038136067724"
      ]
     },
     "execution_count": 178,
     "metadata": {},
     "output_type": "execute_result"
    }
   ],
   "source": [
    "\n",
    "euclideanDistance(train_df.collect()[0], train_df.collect()[1])\n"
   ]
  },
  {
   "cell_type": "code",
   "execution_count": null,
   "metadata": {
    "id": "PWKNXq-nwbfb"
   },
   "outputs": [],
   "source": []
  },
  {
   "cell_type": "markdown",
   "metadata": {
    "id": "lPN32N_spD6m"
   },
   "source": [
    "References:\n",
    "\n",
    "https://en.wikipedia.org/wiki/Iris_flower_data_set#Use_of_the_data_set\n",
    "\n",
    "https://spark.apache.org/docs/3.1.1/api/python/reference/api/pyspark.sql.SparkSession.createDataFrame.html\n",
    "\n",
    "\n",
    "https://medium.com/where-quant-meets-data-science/building-k-nearest-neighbour-algorithm-from-scratch-bd0c5df13192\n",
    "\n",
    "https://spark.apache.org/docs/3.1.1/api/python/reference/api/pyspark.sql.DataFrame.randomSplit.html"
   ]
  },
  {
   "cell_type": "code",
   "execution_count": null,
   "metadata": {
    "id": "A6LKAl2kpFZT"
   },
   "outputs": [],
   "source": []
  }
 ],
 "metadata": {
  "accelerator": "GPU",
  "colab": {
   "collapsed_sections": [],
   "name": "Spark_final_project.ipynb",
   "provenance": []
  },
  "kernelspec": {
   "display_name": "Python 3 (ipykernel)",
   "language": "python",
   "name": "python3"
  },
  "language_info": {
   "codemirror_mode": {
    "name": "ipython",
    "version": 3
   },
   "file_extension": ".py",
   "mimetype": "text/x-python",
   "name": "python",
   "nbconvert_exporter": "python",
   "pygments_lexer": "ipython3",
   "version": "3.8.13"
  }
 },
 "nbformat": 4,
 "nbformat_minor": 1
}
